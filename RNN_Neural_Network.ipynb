{
 "cells": [
  {
   "cell_type": "markdown",
   "metadata": {},
   "source": [
    "# Recurrent Neural Network"
   ]
  },
  {
   "cell_type": "code",
   "execution_count": 1,
   "metadata": {},
   "outputs": [],
   "source": [
    "import numpy as np\n",
    "import pandas as pd\n",
    "import matplotlib.pyplot as plt\n",
    "%matplotlib inline"
   ]
  },
  {
   "cell_type": "code",
   "execution_count": 2,
   "metadata": {},
   "outputs": [],
   "source": [
    "df_training = pd.read_csv('Google_Stock_Price_Train.csv')\n",
    "training_set = df_training.iloc[:, 1:2].values"
   ]
  },
  {
   "cell_type": "code",
   "execution_count": 3,
   "metadata": {},
   "outputs": [],
   "source": [
    "from sklearn.preprocessing import MinMaxScaler\n",
    "scaler = MinMaxScaler()"
   ]
  },
  {
   "cell_type": "code",
   "execution_count": 4,
   "metadata": {},
   "outputs": [],
   "source": [
    "training_set = scaler.fit_transform(training_set)"
   ]
  },
  {
   "cell_type": "code",
   "execution_count": 5,
   "metadata": {},
   "outputs": [],
   "source": [
    "X_train = []\n",
    "y_train = []\n",
    "for i in range(60, 1258):\n",
    "    X_train.append(training_set[i-60:i, 0])\n",
    "    y_train.append(training_set[i, 0])\n",
    "\n",
    "X_train, y_train = np.array(X_train), np.array(y_train)\n"
   ]
  },
  {
   "cell_type": "code",
   "execution_count": 6,
   "metadata": {},
   "outputs": [],
   "source": [
    "X_train = np.reshape(X_train, (X_train.shape[0], X_train.shape[1], 1))"
   ]
  },
  {
   "cell_type": "code",
   "execution_count": 7,
   "metadata": {},
   "outputs": [],
   "source": [
    "from tensorflow.keras.models import Sequential\n",
    "from tensorflow.keras.layers import Dense,Dropout,LSTM"
   ]
  },
  {
   "cell_type": "code",
   "execution_count": 8,
   "metadata": {},
   "outputs": [],
   "source": [
    "model = Sequential()"
   ]
  },
  {
   "cell_type": "code",
   "execution_count": 9,
   "metadata": {},
   "outputs": [],
   "source": [
    "model.add(LSTM(units = 50, return_sequences = True, input_shape = (X_train.shape[1], 1)))"
   ]
  },
  {
   "cell_type": "code",
   "execution_count": 10,
   "metadata": {},
   "outputs": [],
   "source": [
    "model.add(Dropout(0.2))"
   ]
  },
  {
   "cell_type": "code",
   "execution_count": 11,
   "metadata": {},
   "outputs": [],
   "source": [
    "model.add(LSTM(units = 50, return_sequences = True))\n",
    "model.add(Dropout(0.2))"
   ]
  },
  {
   "cell_type": "code",
   "execution_count": 12,
   "metadata": {},
   "outputs": [],
   "source": [
    "model.add(LSTM(units = 50, return_sequences = True))\n",
    "model.add(Dropout(0.2))"
   ]
  },
  {
   "cell_type": "code",
   "execution_count": 13,
   "metadata": {},
   "outputs": [],
   "source": [
    "model.add(LSTM(units = 50))\n",
    "model.add(Dropout(0.2))"
   ]
  },
  {
   "cell_type": "code",
   "execution_count": 14,
   "metadata": {},
   "outputs": [],
   "source": [
    "model.add(Dense(1))"
   ]
  },
  {
   "cell_type": "code",
   "execution_count": 15,
   "metadata": {},
   "outputs": [],
   "source": [
    "model.compile(optimizer = 'adam', loss = 'mean_squared_error')"
   ]
  },
  {
   "cell_type": "code",
   "execution_count": 16,
   "metadata": {},
   "outputs": [
    {
     "name": "stdout",
     "output_type": "stream",
     "text": [
      "Epoch 1/100\n",
      "38/38 [==============================] - 4s 112ms/step - loss: 0.0425\n",
      "Epoch 2/100\n",
      "38/38 [==============================] - 4s 108ms/step - loss: 0.0066\n",
      "Epoch 3/100\n",
      "38/38 [==============================] - 4s 108ms/step - loss: 0.0056\n",
      "Epoch 4/100\n",
      "38/38 [==============================] - 4s 113ms/step - loss: 0.0061\n",
      "Epoch 5/100\n",
      "38/38 [==============================] - 4s 118ms/step - loss: 0.0051\n",
      "Epoch 6/100\n",
      "38/38 [==============================] - 4s 112ms/step - loss: 0.0048\n",
      "Epoch 7/100\n",
      "38/38 [==============================] - 5s 121ms/step - loss: 0.0047\n",
      "Epoch 8/100\n",
      "38/38 [==============================] - 4s 112ms/step - loss: 0.0047\n",
      "Epoch 9/100\n",
      "38/38 [==============================] - 4s 116ms/step - loss: 0.0048\n",
      "Epoch 10/100\n",
      "38/38 [==============================] - 4s 107ms/step - loss: 0.0046\n",
      "Epoch 11/100\n",
      "38/38 [==============================] - 4s 108ms/step - loss: 0.0042\n",
      "Epoch 12/100\n",
      "38/38 [==============================] - 4s 108ms/step - loss: 0.0043\n",
      "Epoch 13/100\n",
      "38/38 [==============================] - 4s 108ms/step - loss: 0.0039\n",
      "Epoch 14/100\n",
      "38/38 [==============================] - 4s 107ms/step - loss: 0.0036\n",
      "Epoch 15/100\n",
      "38/38 [==============================] - 4s 107ms/step - loss: 0.0053\n",
      "Epoch 16/100\n",
      "38/38 [==============================] - 4s 108ms/step - loss: 0.0041\n",
      "Epoch 17/100\n",
      "38/38 [==============================] - 4s 108ms/step - loss: 0.0035\n",
      "Epoch 18/100\n",
      "38/38 [==============================] - 4s 107ms/step - loss: 0.0037\n",
      "Epoch 19/100\n",
      "38/38 [==============================] - 4s 106ms/step - loss: 0.0035\n",
      "Epoch 20/100\n",
      "38/38 [==============================] - 4s 107ms/step - loss: 0.0034\n",
      "Epoch 21/100\n",
      "38/38 [==============================] - 4s 107ms/step - loss: 0.0038\n",
      "Epoch 22/100\n",
      "38/38 [==============================] - 4s 107ms/step - loss: 0.0038\n",
      "Epoch 23/100\n",
      "38/38 [==============================] - 4s 111ms/step - loss: 0.0031\n",
      "Epoch 24/100\n",
      "38/38 [==============================] - 4s 107ms/step - loss: 0.0039\n",
      "Epoch 25/100\n",
      "38/38 [==============================] - 4s 107ms/step - loss: 0.0028\n",
      "Epoch 26/100\n",
      "38/38 [==============================] - 4s 107ms/step - loss: 0.0031\n",
      "Epoch 27/100\n",
      "38/38 [==============================] - 4s 107ms/step - loss: 0.0030\n",
      "Epoch 28/100\n",
      "38/38 [==============================] - 4s 106ms/step - loss: 0.0032\n",
      "Epoch 29/100\n",
      "38/38 [==============================] - 4s 107ms/step - loss: 0.0034\n",
      "Epoch 30/100\n",
      "38/38 [==============================] - 4s 107ms/step - loss: 0.0032\n",
      "Epoch 31/100\n",
      "38/38 [==============================] - 4s 107ms/step - loss: 0.0027\n",
      "Epoch 32/100\n",
      "38/38 [==============================] - 4s 111ms/step - loss: 0.0027\n",
      "Epoch 33/100\n",
      "38/38 [==============================] - 4s 113ms/step - loss: 0.0029\n",
      "Epoch 34/100\n",
      "38/38 [==============================] - 4s 106ms/step - loss: 0.0031\n",
      "Epoch 35/100\n",
      "38/38 [==============================] - 4s 109ms/step - loss: 0.0030\n",
      "Epoch 36/100\n",
      "38/38 [==============================] - 4s 111ms/step - loss: 0.0026\n",
      "Epoch 37/100\n",
      "38/38 [==============================] - 5s 131ms/step - loss: 0.0030\n",
      "Epoch 38/100\n",
      "38/38 [==============================] - 5s 143ms/step - loss: 0.0026\n",
      "Epoch 39/100\n",
      "38/38 [==============================] - 4s 118ms/step - loss: 0.0027\n",
      "Epoch 40/100\n",
      "38/38 [==============================] - 4s 116ms/step - loss: 0.0026\n",
      "Epoch 41/100\n",
      "38/38 [==============================] - 4s 115ms/step - loss: 0.0027\n",
      "Epoch 42/100\n",
      "38/38 [==============================] - 4s 114ms/step - loss: 0.0026\n",
      "Epoch 43/100\n",
      "38/38 [==============================] - 4s 115ms/step - loss: 0.0027\n",
      "Epoch 44/100\n",
      "38/38 [==============================] - 4s 116ms/step - loss: 0.0024\n",
      "Epoch 45/100\n",
      "38/38 [==============================] - 4s 115ms/step - loss: 0.0025\n",
      "Epoch 46/100\n",
      "38/38 [==============================] - 4s 115ms/step - loss: 0.0025\n",
      "Epoch 47/100\n",
      "38/38 [==============================] - 4s 115ms/step - loss: 0.0025\n",
      "Epoch 48/100\n",
      "38/38 [==============================] - 4s 115ms/step - loss: 0.0024\n",
      "Epoch 49/100\n",
      "38/38 [==============================] - 4s 115ms/step - loss: 0.0024\n",
      "Epoch 50/100\n",
      "38/38 [==============================] - 5s 119ms/step - loss: 0.0024\n",
      "Epoch 51/100\n",
      "38/38 [==============================] - 5s 119ms/step - loss: 0.0025\n",
      "Epoch 52/100\n",
      "38/38 [==============================] - 4s 117ms/step - loss: 0.0021\n",
      "Epoch 53/100\n",
      "38/38 [==============================] - 4s 115ms/step - loss: 0.0023\n",
      "Epoch 54/100\n",
      "38/38 [==============================] - 5s 144ms/step - loss: 0.0023\n",
      "Epoch 55/100\n",
      "38/38 [==============================] - 6s 157ms/step - loss: 0.0021\n",
      "Epoch 56/100\n",
      "38/38 [==============================] - 5s 139ms/step - loss: 0.0022\n",
      "Epoch 57/100\n",
      "38/38 [==============================] - 6s 150ms/step - loss: 0.0022\n",
      "Epoch 58/100\n",
      "38/38 [==============================] - 5s 134ms/step - loss: 0.0021\n",
      "Epoch 59/100\n",
      "38/38 [==============================] - 5s 129ms/step - loss: 0.0021\n",
      "Epoch 60/100\n",
      "38/38 [==============================] - 6s 168ms/step - loss: 0.0022\n",
      "Epoch 61/100\n",
      "38/38 [==============================] - 4s 117ms/step - loss: 0.0022\n",
      "Epoch 62/100\n",
      "38/38 [==============================] - 5s 125ms/step - loss: 0.0020\n",
      "Epoch 63/100\n",
      "38/38 [==============================] - 6s 159ms/step - loss: 0.0021\n",
      "Epoch 64/100\n",
      "38/38 [==============================] - 6s 162ms/step - loss: 0.0021\n",
      "Epoch 65/100\n",
      "38/38 [==============================] - 5s 134ms/step - loss: 0.0020\n",
      "Epoch 66/100\n",
      "38/38 [==============================] - 6s 153ms/step - loss: 0.0017\n",
      "Epoch 67/100\n",
      "38/38 [==============================] - 5s 144ms/step - loss: 0.0019\n",
      "Epoch 68/100\n",
      "38/38 [==============================] - 5s 140ms/step - loss: 0.0018\n",
      "Epoch 69/100\n",
      "38/38 [==============================] - 5s 140ms/step - loss: 0.0019\n",
      "Epoch 70/100\n",
      "38/38 [==============================] - 5s 138ms/step - loss: 0.0019\n",
      "Epoch 71/100\n",
      "38/38 [==============================] - 5s 139ms/step - loss: 0.0017\n",
      "Epoch 72/100\n",
      "38/38 [==============================] - 5s 142ms/step - loss: 0.0019\n",
      "Epoch 73/100\n",
      "38/38 [==============================] - 5s 140ms/step - loss: 0.0023\n",
      "Epoch 74/100\n",
      "38/38 [==============================] - 4s 117ms/step - loss: 0.0018\n",
      "Epoch 75/100\n",
      "38/38 [==============================] - 4s 116ms/step - loss: 0.0018\n",
      "Epoch 76/100\n",
      "38/38 [==============================] - 5s 128ms/step - loss: 0.0018\n",
      "Epoch 77/100\n",
      "38/38 [==============================] - 5s 130ms/step - loss: 0.0018\n",
      "Epoch 78/100\n",
      "38/38 [==============================] - 5s 128ms/step - loss: 0.0017\n",
      "Epoch 79/100\n",
      "38/38 [==============================] - 5s 136ms/step - loss: 0.0018\n",
      "Epoch 80/100\n",
      "38/38 [==============================] - 5s 134ms/step - loss: 0.0017\n",
      "Epoch 81/100\n",
      "38/38 [==============================] - 5s 133ms/step - loss: 0.0017\n",
      "Epoch 82/100\n",
      "38/38 [==============================] - 4s 113ms/step - loss: 0.0017\n",
      "Epoch 83/100\n",
      "38/38 [==============================] - 5s 126ms/step - loss: 0.0017\n",
      "Epoch 84/100\n",
      "38/38 [==============================] - 5s 130ms/step - loss: 0.0016\n",
      "Epoch 85/100\n",
      "38/38 [==============================] - 5s 127ms/step - loss: 0.0016\n",
      "Epoch 86/100\n",
      "38/38 [==============================] - 6s 159ms/step - loss: 0.0017\n",
      "Epoch 87/100\n",
      "38/38 [==============================] - 6s 152ms/step - loss: 0.0019\n",
      "Epoch 88/100\n",
      "38/38 [==============================] - 5s 134ms/step - loss: 0.0016\n",
      "Epoch 89/100\n",
      "38/38 [==============================] - 5s 135ms/step - loss: 0.0015\n",
      "Epoch 90/100\n",
      "38/38 [==============================] - 6s 158ms/step - loss: 0.0015\n",
      "Epoch 91/100\n",
      "38/38 [==============================] - 6s 148ms/step - loss: 0.0015\n",
      "Epoch 92/100\n",
      "38/38 [==============================] - 5s 134ms/step - loss: 0.0015\n",
      "Epoch 93/100\n",
      "38/38 [==============================] - 5s 136ms/step - loss: 0.0017\n",
      "Epoch 94/100\n",
      "38/38 [==============================] - 5s 137ms/step - loss: 0.0015\n",
      "Epoch 95/100\n",
      "38/38 [==============================] - 6s 150ms/step - loss: 0.0014\n",
      "Epoch 96/100\n",
      "38/38 [==============================] - 5s 133ms/step - loss: 0.0015\n",
      "Epoch 97/100\n",
      "38/38 [==============================] - 5s 121ms/step - loss: 0.0014\n",
      "Epoch 98/100\n",
      "38/38 [==============================] - 4s 115ms/step - loss: 0.0015\n",
      "Epoch 99/100\n"
     ]
    },
    {
     "name": "stdout",
     "output_type": "stream",
     "text": [
      "38/38 [==============================] - 4s 106ms/step - loss: 0.0015\n",
      "Epoch 100/100\n",
      "38/38 [==============================] - 4s 105ms/step - loss: 0.0015\n"
     ]
    },
    {
     "data": {
      "text/plain": [
       "<tensorflow.python.keras.callbacks.History at 0x1fa19177e80>"
      ]
     },
     "execution_count": 16,
     "metadata": {},
     "output_type": "execute_result"
    }
   ],
   "source": [
    "model.fit(X_train, y_train, epochs = 100, batch_size = 32)"
   ]
  },
  {
   "cell_type": "code",
   "execution_count": 17,
   "metadata": {},
   "outputs": [],
   "source": [
    "df_test = pd.read_csv('Google_Stock_Price_Test.csv')\n",
    "test_set = df_test.iloc[:, 1:2].values"
   ]
  },
  {
   "cell_type": "code",
   "execution_count": 19,
   "metadata": {},
   "outputs": [],
   "source": [
    "df_total = pd.concat((df_training['Open'], df_test['Open']), axis = 0)\n",
    "length = (len(df_total) - len(df_test) - 60)\n",
    "inputs = df_total[length:].values\n",
    "inputs = inputs.reshape(-1,1)\n",
    "inputs = scaler.transform(inputs)\n",
    "X_test = []\n",
    "for i in range(60, 80):\n",
    "    X_test.append(inputs[i-60:i, 0])\n",
    "    \n",
    "X_test = np.array(X_test)\n",
    "X_test = np.reshape(X_test, (X_test.shape[0], X_test.shape[1], 1))\n",
    "predicted_stock_price = model.predict(X_test)\n",
    "predicted_stock_price = scaler.inverse_transform(predicted_stock_price)"
   ]
  },
  {
   "cell_type": "code",
   "execution_count": 21,
   "metadata": {},
   "outputs": [
    {
     "data": {
      "image/png": "[encoded data removed]",
      "text/plain": [
       "<Figure size 432x288 with 1 Axes>"
      ]
     },
     "metadata": {
      "needs_background": "light"
     },
     "output_type": "display_data"
    }
   ],
   "source": [
    "plt.plot(test_set, color = 'red', label = 'Real Google Stock Price')\n",
    "plt.plot(predicted_stock_price, color = 'blue', label = 'Predicted Google Stock Price')\n",
    "plt.title('Google Stock Price Prediction')\n",
    "plt.xlabel('Time')\n",
    "plt.ylabel('Google Stock Price')\n",
    "plt.legend()\n",
    "plt.show()"
   ]
  },
  {
   "cell_type": "code",
   "execution_count": null,
   "metadata": {},
   "outputs": [],
   "source": [
    "# y_test.append(inputs[i,0])"
   ]
  },
  {
   "cell_type": "code",
   "execution_count": 23,
   "metadata": {},
   "outputs": [
    {
     "data": {
      "text/plain": [
       "0     325.25\n",
       "1     331.27\n",
       "2     329.83\n",
       "3     328.34\n",
       "4     322.04\n",
       "       ...  \n",
       "15    829.62\n",
       "16    837.81\n",
       "17    834.71\n",
       "18    814.66\n",
       "19    796.86\n",
       "Name: Open, Length: 1278, dtype: float64"
      ]
     },
     "execution_count": 23,
     "metadata": {},
     "output_type": "execute_result"
    }
   ],
   "source": [
    "df_total"
   ]
  },
  {
   "cell_type": "code",
   "execution_count": 25,
   "metadata": {},
   "outputs": [],
   "source": [
    "import math\n",
    "from sklearn.metrics import mean_squared_error\n",
    "rmse = math.sqrt(mean_squared_error(test_set, predicted_stock_price))"
   ]
  },
  {
   "cell_type": "code",
   "execution_count": 26,
   "metadata": {},
   "outputs": [
    {
     "data": {
      "text/plain": [
       "14.131182865762575"
      ]
     },
     "execution_count": 26,
     "metadata": {},
     "output_type": "execute_result"
    }
   ],
   "source": [
    "rmse"
   ]
  },
  {
   "cell_type": "code",
   "execution_count": null,
   "metadata": {},
   "outputs": [],
   "source": []
  }
 ],
 "metadata": {
  "kernelspec": {
   "display_name": "Python 3",
   "language": "python",
   "name": "python3"
  },
  "language_info": {
   "codemirror_mode": {
    "name": "ipython",
    "version": 3
   },
   "file_extension": ".py",
   "mimetype": "text/x-python",
   "name": "python",
   "nbconvert_exporter": "python",
   "pygments_lexer": "ipython3",
   "version": "3.8.0"
  }
 },
 "nbformat": 4,
 "nbformat_minor": 4
}
