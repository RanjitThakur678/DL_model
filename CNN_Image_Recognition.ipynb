{
 "cells": [
  {
   "cell_type": "markdown",
   "metadata": {},
   "source": [
    "# Convolutional Neural Network"
   ]
  },
  {
   "cell_type": "markdown",
   "metadata": {},
   "source": [
    "# Importing the libraries"
   ]
  },
  {
   "cell_type": "code",
   "execution_count": 1,
   "metadata": {},
   "outputs": [],
   "source": [
    "import tensorflow as tf"
   ]
  },
  {
   "cell_type": "code",
   "execution_count": 3,
   "metadata": {},
   "outputs": [],
   "source": [
    "from tensorflow.keras.preprocessing.image import ImageDataGenerator"
   ]
  },
  {
   "cell_type": "markdown",
   "metadata": {},
   "source": [
    "# Preprocessing the Training set"
   ]
  },
  {
   "cell_type": "code",
   "execution_count": 4,
   "metadata": {},
   "outputs": [],
   "source": [
    "train_datagen = ImageDataGenerator(rescale = 1./255,\n",
    "                                   shear_range = 0.2,\n",
    "                                   zoom_range = 0.2,\n",
    "                                   horizontal_flip = True)\n"
   ]
  },
  {
   "cell_type": "code",
   "execution_count": 5,
   "metadata": {},
   "outputs": [
    {
     "name": "stdout",
     "output_type": "stream",
     "text": [
      "Found 8048 images belonging to 2 classes.\n"
     ]
    }
   ],
   "source": [
    "training_set = train_datagen.flow_from_directory('training_set',\n",
    "                                                 target_size = (64, 64),\n",
    "                                                 batch_size = 32,\n",
    "                                                 class_mode = 'binary')"
   ]
  },
  {
   "cell_type": "markdown",
   "metadata": {},
   "source": [
    "# Preprocessing the Test set"
   ]
  },
  {
   "cell_type": "code",
   "execution_count": 6,
   "metadata": {},
   "outputs": [],
   "source": [
    "test_datagen = ImageDataGenerator(rescale = 1./255)\n"
   ]
  },
  {
   "cell_type": "code",
   "execution_count": 7,
   "metadata": {},
   "outputs": [
    {
     "name": "stdout",
     "output_type": "stream",
     "text": [
      "Found 2000 images belonging to 2 classes.\n"
     ]
    }
   ],
   "source": [
    "test_set = test_datagen.flow_from_directory('test_set',\n",
    "                                            target_size = (64, 64),\n",
    "                                            batch_size = 32,\n",
    "                                            class_mode = 'binary')"
   ]
  },
  {
   "cell_type": "markdown",
   "metadata": {},
   "source": [
    "# Initialising the CNN"
   ]
  },
  {
   "cell_type": "code",
   "execution_count": 8,
   "metadata": {},
   "outputs": [],
   "source": [
    "cnn = tf.keras.models.Sequential()"
   ]
  },
  {
   "cell_type": "markdown",
   "metadata": {},
   "source": [
    "# Step 1 - Convolution"
   ]
  },
  {
   "cell_type": "code",
   "execution_count": 9,
   "metadata": {},
   "outputs": [],
   "source": [
    "cnn.add(tf.keras.layers.Conv2D(filters=32, kernel_size = 3, activation='relu',input_shape=[64, 64, 3]))"
   ]
  },
  {
   "cell_type": "markdown",
   "metadata": {},
   "source": [
    "# Step 2 - Pooling"
   ]
  },
  {
   "cell_type": "code",
   "execution_count": 11,
   "metadata": {},
   "outputs": [],
   "source": [
    "cnn.add(tf.keras.layers.MaxPool2D(pool_size=(2, 2), strides=(2, 2)))\n",
    " "
   ]
  },
  {
   "cell_type": "markdown",
   "metadata": {},
   "source": [
    "# Adding a second convolutional layer"
   ]
  },
  {
   "cell_type": "code",
   "execution_count": 12,
   "metadata": {},
   "outputs": [],
   "source": [
    "cnn.add(tf.keras.layers.Conv2D(filters=32, kernel_size = 3, activation='relu'))"
   ]
  },
  {
   "cell_type": "code",
   "execution_count": 13,
   "metadata": {},
   "outputs": [],
   "source": [
    "cnn.add(tf.keras.layers.MaxPool2D(pool_size=(2, 2), strides=(2, 2)))"
   ]
  },
  {
   "cell_type": "markdown",
   "metadata": {},
   "source": [
    "# Step 3 - Flattening"
   ]
  },
  {
   "cell_type": "code",
   "execution_count": 14,
   "metadata": {},
   "outputs": [],
   "source": [
    "cnn.add(tf.keras.layers.Flatten())"
   ]
  },
  {
   "cell_type": "markdown",
   "metadata": {},
   "source": [
    "# Step 4 - Full Connection"
   ]
  },
  {
   "cell_type": "code",
   "execution_count": null,
   "metadata": {},
   "outputs": [],
   "source": [
    "cnn.add(tf.keras.layers.Dense(units=128, activation='relu'))"
   ]
  },
  {
   "cell_type": "markdown",
   "metadata": {},
   "source": [
    "# Step 5 - Output Layer"
   ]
  },
  {
   "cell_type": "code",
   "execution_count": 15,
   "metadata": {},
   "outputs": [],
   "source": [
    "cnn.add(tf.keras.layers.Dense(units=1, activation='sigmoid'))"
   ]
  },
  {
   "cell_type": "markdown",
   "metadata": {},
   "source": [
    "# Part 3 - Training the CNN\n"
   ]
  },
  {
   "cell_type": "markdown",
   "metadata": {},
   "source": [
    "# Compiling the CNN"
   ]
  },
  {
   "cell_type": "code",
   "execution_count": 16,
   "metadata": {},
   "outputs": [],
   "source": [
    "cnn.compile(optimizer='adam',loss='binary_crossentropy',metrics=['accuracy'])"
   ]
  },
  {
   "cell_type": "markdown",
   "metadata": {},
   "source": [
    "# Training the CNN on the Training set and evaluating it on the Test set\n"
   ]
  },
  {
   "cell_type": "code",
   "execution_count": 17,
   "metadata": {},
   "outputs": [
    {
     "name": "stdout",
     "output_type": "stream",
     "text": [
      "Epoch 1/25\n",
      "252/252 [==============================] - 385s 2s/step - loss: 0.6738 - accuracy: 0.5788 - val_loss: 0.6251 - val_accuracy: 0.6745\n",
      "Epoch 2/25\n",
      "252/252 [==============================] - 128s 510ms/step - loss: 0.6068 - accuracy: 0.6717 - val_loss: 0.5658 - val_accuracy: 0.7190\n",
      "Epoch 3/25\n",
      "252/252 [==============================] - 108s 429ms/step - loss: 0.5655 - accuracy: 0.7090 - val_loss: 0.5435 - val_accuracy: 0.7345\n",
      "Epoch 4/25\n",
      "252/252 [==============================] - 100s 397ms/step - loss: 0.5445 - accuracy: 0.7209 - val_loss: 0.6206 - val_accuracy: 0.6760\n",
      "Epoch 5/25\n",
      "252/252 [==============================] - 82s 326ms/step - loss: 0.5335 - accuracy: 0.7351 - val_loss: 0.5263 - val_accuracy: 0.7500\n",
      "Epoch 6/25\n",
      "252/252 [==============================] - 72s 287ms/step - loss: 0.5168 - accuracy: 0.7435 - val_loss: 0.5168 - val_accuracy: 0.7515\n",
      "Epoch 7/25\n",
      "252/252 [==============================] - 74s 293ms/step - loss: 0.5108 - accuracy: 0.7500 - val_loss: 0.4939 - val_accuracy: 0.7730\n",
      "Epoch 8/25\n",
      "252/252 [==============================] - 74s 294ms/step - loss: 0.5003 - accuracy: 0.7556 - val_loss: 0.5399 - val_accuracy: 0.7445\n",
      "Epoch 9/25\n",
      "252/252 [==============================] - 182s 723ms/step - loss: 0.4855 - accuracy: 0.7608 - val_loss: 0.5155 - val_accuracy: 0.7660\n",
      "Epoch 10/25\n",
      "252/252 [==============================] - 201s 798ms/step - loss: 0.4821 - accuracy: 0.7675 - val_loss: 0.4800 - val_accuracy: 0.7845\n",
      "Epoch 11/25\n",
      "252/252 [==============================] - 180s 713ms/step - loss: 0.4762 - accuracy: 0.7736 - val_loss: 0.4790 - val_accuracy: 0.7835\n",
      "Epoch 12/25\n",
      "252/252 [==============================] - 134s 532ms/step - loss: 0.4716 - accuracy: 0.7746 - val_loss: 0.5090 - val_accuracy: 0.7715\n",
      "Epoch 13/25\n",
      "252/252 [==============================] - 106s 421ms/step - loss: 0.4613 - accuracy: 0.7808 - val_loss: 0.4540 - val_accuracy: 0.7875\n",
      "Epoch 14/25\n",
      "252/252 [==============================] - 88s 350ms/step - loss: 0.4593 - accuracy: 0.7847 - val_loss: 0.4832 - val_accuracy: 0.7855\n",
      "Epoch 15/25\n",
      "252/252 [==============================] - 86s 342ms/step - loss: 0.4523 - accuracy: 0.7896 - val_loss: 0.4612 - val_accuracy: 0.7920\n",
      "Epoch 16/25\n",
      "252/252 [==============================] - 89s 352ms/step - loss: 0.4454 - accuracy: 0.7903 - val_loss: 0.5024 - val_accuracy: 0.7765\n",
      "Epoch 17/25\n",
      "252/252 [==============================] - 101s 400ms/step - loss: 0.4433 - accuracy: 0.7929 - val_loss: 0.4425 - val_accuracy: 0.8010\n",
      "Epoch 18/25\n",
      "252/252 [==============================] - 136s 538ms/step - loss: 0.4288 - accuracy: 0.8023 - val_loss: 0.4354 - val_accuracy: 0.8065\n",
      "Epoch 19/25\n",
      "252/252 [==============================] - 99s 394ms/step - loss: 0.4323 - accuracy: 0.8012 - val_loss: 0.4508 - val_accuracy: 0.7915\n",
      "Epoch 20/25\n",
      "252/252 [==============================] - 87s 347ms/step - loss: 0.4235 - accuracy: 0.8034 - val_loss: 0.4428 - val_accuracy: 0.8015\n",
      "Epoch 21/25\n",
      "252/252 [==============================] - 89s 352ms/step - loss: 0.4188 - accuracy: 0.8099 - val_loss: 0.4404 - val_accuracy: 0.8035\n",
      "Epoch 22/25\n",
      "252/252 [==============================] - 91s 361ms/step - loss: 0.4120 - accuracy: 0.8134 - val_loss: 0.4463 - val_accuracy: 0.8005\n",
      "Epoch 23/25\n",
      "252/252 [==============================] - 89s 354ms/step - loss: 0.4075 - accuracy: 0.8130 - val_loss: 0.4352 - val_accuracy: 0.8005\n",
      "Epoch 24/25\n",
      "252/252 [==============================] - 89s 352ms/step - loss: 0.4135 - accuracy: 0.8096 - val_loss: 0.4522 - val_accuracy: 0.7895\n",
      "Epoch 25/25\n",
      "252/252 [==============================] - 88s 351ms/step - loss: 0.4038 - accuracy: 0.8159 - val_loss: 0.4534 - val_accuracy: 0.7940\n"
     ]
    },
    {
     "data": {
      "text/plain": [
       "<tensorflow.python.keras.callbacks.History at 0x15393467df0>"
      ]
     },
     "execution_count": 17,
     "metadata": {},
     "output_type": "execute_result"
    }
   ],
   "source": [
    "cnn.fit(x=training_set,validation_data = test_set, epochs = 25)"
   ]
  },
  {
   "cell_type": "markdown",
   "metadata": {},
   "source": [
    "# Part 4 - Making a single prediction"
   ]
  },
  {
   "cell_type": "code",
   "execution_count": null,
   "metadata": {},
   "outputs": [],
   "source": [
    "import numpy as np"
   ]
  },
  {
   "cell_type": "code",
   "execution_count": 22,
   "metadata": {},
   "outputs": [],
   "source": [
    "from tensorflow.keras.preprocessing import image"
   ]
  },
  {
   "cell_type": "code",
   "execution_count": 33,
   "metadata": {},
   "outputs": [],
   "source": [
    "test_image = image.load_img('single_prediction/cat_or_dog_6.jpg', target_size = (64, 64))\n",
    "test_image = image.img_to_array(test_image)\n",
    "test_image = np.expand_dims(test_image, axis = 0)\n",
    "result = cnn.predict(test_image)\n",
    "training_set.class_indices\n",
    "if result[0][0] == 1:\n",
    "  prediction = 'dog'\n",
    "else:\n",
    "  prediction = 'cat'"
   ]
  },
  {
   "cell_type": "code",
   "execution_count": 34,
   "metadata": {},
   "outputs": [
    {
     "name": "stdout",
     "output_type": "stream",
     "text": [
      "dog\n"
     ]
    }
   ],
   "source": [
    "print(prediction)"
   ]
  },
  {
   "cell_type": "code",
   "execution_count": null,
   "metadata": {},
   "outputs": [],
   "source": []
  }
 ],
 "metadata": {
  "kernelspec": {
   "display_name": "Python 3",
   "language": "python",
   "name": "python3"
  },
  "language_info": {
   "codemirror_mode": {
    "name": "ipython",
    "version": 3
   },
   "file_extension": ".py",
   "mimetype": "text/x-python",
   "name": "python",
   "nbconvert_exporter": "python",
   "pygments_lexer": "ipython3",
   "version": "3.8.0"
  }
 },
 "nbformat": 4,
 "nbformat_minor": 4
}
